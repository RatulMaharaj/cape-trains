{
 "cells": [
  {
   "cell_type": "code",
   "execution_count": 27,
   "id": "c36e197d-66f6-4ace-9c67-d8e3ea7be8de",
   "metadata": {},
   "outputs": [],
   "source": [
    "import pandas as pd\n",
    "from pathlib import Path"
   ]
  },
  {
   "cell_type": "code",
   "execution_count": 28,
   "id": "eae4f983-9c8a-4244-b693-851035a6896e",
   "metadata": {},
   "outputs": [],
   "source": [
    "data_dir = Path(\".\")\n",
    "csv_dir = data_dir / \"csv\"\n",
    "json_dir = data_dir / \"json\"\n",
    "\n",
    "if not json_dir.exists():\n",
    "    json_dir.mkdir()"
   ]
  },
  {
   "cell_type": "code",
   "execution_count": 29,
   "id": "f6b67f49",
   "metadata": {},
   "outputs": [],
   "source": [
    "csv_files = csv_dir.glob(\"*.csv\")"
   ]
  },
  {
   "cell_type": "code",
   "execution_count": 30,
   "id": "299fedc4",
   "metadata": {},
   "outputs": [],
   "source": [
    "stations = []"
   ]
  },
  {
   "cell_type": "code",
   "execution_count": 31,
   "id": "c4a7418d",
   "metadata": {},
   "outputs": [],
   "source": [
    "for file in csv_files:\n",
    "    df = pd.read_csv(csv_dir / file.name)\n",
    "    df.set_index(df.columns[0], inplace=True)\n",
    "\n",
    "    # update stations\n",
    "    for station in df.index:\n",
    "        line = file.stem.rstrip(\"_inbound\").rstrip(\"_outbound\").rstrip(\"_Mon-Fri\").rstrip(\"_Saturday\")\n",
    "        station_names = [station[\"name\"].lower() for station in stations]\n",
    "        if station.lower() not in station_names:\n",
    "            stations.append({\n",
    "                \"name\": station.lower(),\n",
    "                \"lines\": [line.lower()],\n",
    "            })\n",
    "        else:\n",
    "            for s in stations:\n",
    "                if s[\"name\"].lower() == station.lower():\n",
    "                    if line.lower() not in s[\"lines\"]:\n",
    "                        s[\"lines\"].append(line.lower())\n",
    "        \n",
    "\n",
    "    df.fillna(\"\", inplace=True)\n",
    "    df.to_json(json_dir / f\"{file.stem}.json\", orient='index')"
   ]
  },
  {
   "cell_type": "code",
   "execution_count": 32,
   "id": "85d9e204",
   "metadata": {},
   "outputs": [],
   "source": [
    "with open(json_dir / \"stations.json\", \"w\") as f:\n",
    "    f.write(str(stations))"
   ]
  },
  {
   "cell_type": "code",
   "execution_count": null,
   "id": "c9e5a127",
   "metadata": {},
   "outputs": [],
   "source": []
  }
 ],
 "metadata": {
  "kernelspec": {
   "display_name": "Python 3 (ipykernel)",
   "language": "python",
   "name": "python3"
  },
  "language_info": {
   "codemirror_mode": {
    "name": "ipython",
    "version": 3
   },
   "file_extension": ".py",
   "mimetype": "text/x-python",
   "name": "python",
   "nbconvert_exporter": "python",
   "pygments_lexer": "ipython3",
   "version": "3.12.4"
  }
 },
 "nbformat": 4,
 "nbformat_minor": 5
}
