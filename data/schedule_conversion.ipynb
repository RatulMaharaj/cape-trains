{
 "cells": [
  {
   "cell_type": "code",
   "execution_count": 15,
   "id": "c36e197d-66f6-4ace-9c67-d8e3ea7be8de",
   "metadata": {},
   "outputs": [],
   "source": [
    "import pandas as pd\n",
    "from pathlib import Path"
   ]
  },
  {
   "cell_type": "code",
   "execution_count": 16,
   "id": "eae4f983-9c8a-4244-b693-851035a6896e",
   "metadata": {},
   "outputs": [],
   "source": [
    "data_dir = Path(\".\")"
   ]
  },
  {
   "cell_type": "code",
   "execution_count": 30,
   "id": "0d68cd9c-7346-4366-a932-56cce4bf8cac",
   "metadata": {},
   "outputs": [],
   "source": [
    "file_name = \"southern_inbound_saturday\""
   ]
  },
  {
   "cell_type": "code",
   "execution_count": 31,
   "id": "2ff25932-c401-4da0-bca3-c04fc0f5b956",
   "metadata": {},
   "outputs": [],
   "source": [
    "df = pd.read_csv(data_dir / f\"{file_name}.csv\")"
   ]
  },
  {
   "cell_type": "code",
   "execution_count": 33,
   "id": "fe9240e1",
   "metadata": {},
   "outputs": [],
   "source": [
    "df[\"INDEX\"] = df[\"STATION\"] + \"_\" + df[\"DEPART_ARRIVE\"]"
   ]
  },
  {
   "cell_type": "code",
   "execution_count": 35,
   "id": "111a2cb3",
   "metadata": {},
   "outputs": [],
   "source": [
    "df[\"INDEX\"] = df[\"INDEX\"].map(lambda x: x.lower())"
   ]
  },
  {
   "cell_type": "code",
   "execution_count": 36,
   "id": "1f7d4105",
   "metadata": {},
   "outputs": [],
   "source": [
    "df = df.drop(columns=[\"DEPART_ARRIVE\", \"STATION\"])"
   ]
  },
  {
   "cell_type": "code",
   "execution_count": 37,
   "id": "b936a3ea",
   "metadata": {},
   "outputs": [],
   "source": [
    "df.set_index(\"INDEX\", inplace=True)"
   ]
  },
  {
   "cell_type": "code",
   "execution_count": 39,
   "id": "268f8628",
   "metadata": {},
   "outputs": [],
   "source": [
    "df.replace(\"-\", \"\", inplace=True)"
   ]
  },
  {
   "cell_type": "code",
   "execution_count": 41,
   "id": "95491de7",
   "metadata": {},
   "outputs": [],
   "source": [
    "df.to_json(data_dir / 'output.json',orient='index')"
   ]
  },
  {
   "cell_type": "code",
   "execution_count": null,
   "id": "a46916ec",
   "metadata": {},
   "outputs": [],
   "source": []
  }
 ],
 "metadata": {
  "kernelspec": {
   "display_name": "Python 3 (ipykernel)",
   "language": "python",
   "name": "python3"
  },
  "language_info": {
   "codemirror_mode": {
    "name": "ipython",
    "version": 3
   },
   "file_extension": ".py",
   "mimetype": "text/x-python",
   "name": "python",
   "nbconvert_exporter": "python",
   "pygments_lexer": "ipython3",
   "version": "3.12.4"
  }
 },
 "nbformat": 4,
 "nbformat_minor": 5
}
