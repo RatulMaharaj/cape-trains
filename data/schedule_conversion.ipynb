{
 "cells": [
  {
   "cell_type": "code",
   "execution_count": null,
   "id": "c36e197d-66f6-4ace-9c67-d8e3ea7be8de",
   "metadata": {},
   "outputs": [],
   "source": [
    "import pandas as pd\n",
    "from pathlib import Path"
   ]
  },
  {
   "cell_type": "code",
   "execution_count": 2,
   "id": "eae4f983-9c8a-4244-b693-851035a6896e",
   "metadata": {},
   "outputs": [],
   "source": [
    "data_dir = Path(\".\")"
   ]
  },
  {
   "cell_type": "code",
   "execution_count": 3,
   "id": "0d68cd9c-7346-4366-a932-56cce4bf8cac",
   "metadata": {},
   "outputs": [],
   "source": [
    "file_name = \"southern_inbound_saturday\""
   ]
  },
  {
   "cell_type": "code",
   "execution_count": 5,
   "id": "2ff25932-c401-4da0-bca3-c04fc0f5b956",
   "metadata": {},
   "outputs": [],
   "source": [
    "df = pd.read_csv(data_dir / f\"{file_name}.csv\")"
   ]
  },
  {
   "cell_type": "code",
   "execution_count": 12,
   "id": "b516950c-2308-4fea-99a1-276379bf36d5",
   "metadata": {},
   "outputs": [],
   "source": [
    "departure = \"FISH HOEK\"\n",
    "arrival = \"CAPE TOWN\""
   ]
  },
  {
   "cell_type": "code",
   "execution_count": null,
   "id": "c96a062e-a9db-4e85-8d88-191e0d13b1df",
   "metadata": {},
   "outputs": [],
   "source": [
    "df_depart = df[df[\"DEPART_ARRIVE\"] == \"D\"]\n",
    "df_depart = df_depart[df_depart[\"STATION\"] == departure]\n",
    "df_depart"
   ]
  },
  {
   "cell_type": "code",
   "execution_count": null,
   "id": "a653e4cf-4ce5-4e96-8294-3a27aa31fac8",
   "metadata": {},
   "outputs": [],
   "source": [
    "df_arrival = df[df[\"DEPART_ARRIVE\"] == \"A\"]\n",
    "df_arrival = df_arrival[df_arrival[\"STATION\"] == arrival]\n",
    "df_arrival"
   ]
  },
  {
   "cell_type": "code",
   "execution_count": null,
   "id": "7a9b5f5b-4292-42ff-99d6-d032b9a22787",
   "metadata": {},
   "outputs": [],
   "source": []
  },
  {
   "cell_type": "code",
   "execution_count": null,
   "id": "37d7496f-69bd-4ccd-aa5e-8c07200e9d81",
   "metadata": {},
   "outputs": [],
   "source": [
    "\n",
    "\n",
    "print(df.head())\n",
    "with open(data_dir / f\"{file_name}.json\", \"w+\") as f:\n",
    "    f.write(df.to_json(orient=\"records\"))"
   ]
  },
  {
   "cell_type": "code",
   "execution_count": null,
   "id": "070a6fda-7b1e-4d78-b909-baea531c4eb6",
   "metadata": {},
   "outputs": [],
   "source": []
  }
 ],
 "metadata": {
  "kernelspec": {
   "display_name": "Python 3 (ipykernel)",
   "language": "python",
   "name": "python3"
  },
  "language_info": {
   "codemirror_mode": {
    "name": "ipython",
    "version": 3
   },
   "file_extension": ".py",
   "mimetype": "text/x-python",
   "name": "python",
   "nbconvert_exporter": "python",
   "pygments_lexer": "ipython3",
   "version": "3.12.4"
  }
 },
 "nbformat": 4,
 "nbformat_minor": 5
}
