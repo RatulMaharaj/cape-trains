{
 "cells": [
  {
   "cell_type": "code",
   "execution_count": 45,
   "id": "f7ddbbcd-f54f-4e1f-a1dc-efae10b4ebe2",
   "metadata": {},
   "outputs": [],
   "source": [
    "from pathlib import Path"
   ]
  },
  {
   "cell_type": "code",
   "execution_count": 46,
   "id": "3798103f-e180-49a3-948b-909b633b0471",
   "metadata": {},
   "outputs": [],
   "source": [
    "lines = [\n",
    "    \"cape_flats_line\", \n",
    "    \"central_line\",\n",
    "    \"combined_northern_line\",\n",
    "    \"northern_line\",\n",
    "    \"shuttle_fish_hoek_simons_town\",\n",
    "    \"southern_line\",\n",
    "]\n",
    "files = [\"Mon-Fri.txt\", \"Saturday.txt\"]"
   ]
  },
  {
   "cell_type": "code",
   "execution_count": 65,
   "id": "221dab30",
   "metadata": {},
   "outputs": [],
   "source": [
    "def get_movement(departure_station: str, arrival_station: str, inbound_ordered_stations: list[str]) -> str:\n",
    "    # convert stations to lowercase\n",
    "    stations = [station.lower() for station in inbound_ordered_stations]\n",
    "    # get the index of the departure station\n",
    "    departure_index = stations.index(departure_station.lower())\n",
    "    # get the index of the arrival station\n",
    "    arrival_index = stations.index(arrival_station.lower())\n",
    "\n",
    "    # determine if the movement is inbound or outbound\n",
    "    if departure_index < arrival_index:\n",
    "        return \"inbound\"\n",
    "    elif departure_index > arrival_index:\n",
    "        return \"outbound\"\n",
    "    else:\n",
    "        return \"stationary\""
   ]
  },
  {
   "cell_type": "code",
   "execution_count": 66,
   "id": "120d2610-7079-4b3c-baac-3b3abbd9577f",
   "metadata": {},
   "outputs": [
    {
     "ename": "ValueError",
     "evalue": "'ndabeni n' is not in list",
     "output_type": "error",
     "traceback": [
      "\u001b[0;31m---------------------------------------------------------------------------\u001b[0m",
      "\u001b[0;31mValueError\u001b[0m                                Traceback (most recent call last)",
      "Cell \u001b[0;32mIn[66], line 44\u001b[0m\n\u001b[1;32m     41\u001b[0m \u001b[38;5;28;01mfor\u001b[39;00m train_no \u001b[38;5;129;01min\u001b[39;00m trains:\n\u001b[1;32m     42\u001b[0m     \u001b[38;5;28;01mfor\u001b[39;00m item \u001b[38;5;129;01min\u001b[39;00m clean:\n\u001b[1;32m     43\u001b[0m         \u001b[38;5;66;03m# determine if the movement is inbound or outbound\u001b[39;00m\n\u001b[0;32m---> 44\u001b[0m         movement \u001b[38;5;241m=\u001b[39m \u001b[43mget_movement\u001b[49m\u001b[43m(\u001b[49m\u001b[43mitem\u001b[49m\u001b[43m[\u001b[49m\u001b[38;5;124;43m\"\u001b[39;49m\u001b[38;5;124;43mdeparture_station\u001b[39;49m\u001b[38;5;124;43m\"\u001b[39;49m\u001b[43m]\u001b[49m\u001b[43m,\u001b[49m\u001b[43m \u001b[49m\u001b[43mitem\u001b[49m\u001b[43m[\u001b[49m\u001b[38;5;124;43m\"\u001b[39;49m\u001b[38;5;124;43marrival_station\u001b[39;49m\u001b[38;5;124;43m\"\u001b[39;49m\u001b[43m]\u001b[49m\u001b[43m,\u001b[49m\u001b[43m \u001b[49m\u001b[43mstations\u001b[49m\u001b[43m)\u001b[49m\n\u001b[1;32m     45\u001b[0m         \u001b[38;5;28;01mif\u001b[39;00m movement \u001b[38;5;241m==\u001b[39m \u001b[38;5;124m\"\u001b[39m\u001b[38;5;124minbound\u001b[39m\u001b[38;5;124m\"\u001b[39m:\n\u001b[1;32m     46\u001b[0m             \u001b[38;5;28;01mif\u001b[39;00m item[\u001b[38;5;124m\"\u001b[39m\u001b[38;5;124marrival_station\u001b[39m\u001b[38;5;124m\"\u001b[39m] \u001b[38;5;241m==\u001b[39m station \u001b[38;5;129;01mand\u001b[39;00m item[\u001b[38;5;124m\"\u001b[39m\u001b[38;5;124mtrain\u001b[39m\u001b[38;5;124m\"\u001b[39m] \u001b[38;5;241m==\u001b[39m train_no:\n",
      "Cell \u001b[0;32mIn[65], line 7\u001b[0m, in \u001b[0;36mget_movement\u001b[0;34m(departure_station, arrival_station, inbound_ordered_stations)\u001b[0m\n\u001b[1;32m      5\u001b[0m departure_index \u001b[38;5;241m=\u001b[39m stations\u001b[38;5;241m.\u001b[39mindex(departure_station\u001b[38;5;241m.\u001b[39mlower())\n\u001b[1;32m      6\u001b[0m \u001b[38;5;66;03m# get the index of the arrival station\u001b[39;00m\n\u001b[0;32m----> 7\u001b[0m arrival_index \u001b[38;5;241m=\u001b[39m \u001b[43mstations\u001b[49m\u001b[38;5;241;43m.\u001b[39;49m\u001b[43mindex\u001b[49m\u001b[43m(\u001b[49m\u001b[43marrival_station\u001b[49m\u001b[38;5;241;43m.\u001b[39;49m\u001b[43mlower\u001b[49m\u001b[43m(\u001b[49m\u001b[43m)\u001b[49m\u001b[43m)\u001b[49m\n\u001b[1;32m      9\u001b[0m \u001b[38;5;66;03m# determine if the movement is inbound or outbound\u001b[39;00m\n\u001b[1;32m     10\u001b[0m \u001b[38;5;28;01mif\u001b[39;00m departure_index \u001b[38;5;241m<\u001b[39m arrival_index:\n",
      "\u001b[0;31mValueError\u001b[0m: 'ndabeni n' is not in list"
     ]
    }
   ],
   "source": [
    "for line_dir in lines:\n",
    "    for file in files:\n",
    "        data_path = Path(f\"{line_dir}/{file}\")\n",
    "        with open(data_path, \"r\") as f:\n",
    "            data = f.readlines()\n",
    "\n",
    "        # Remove the newline character\n",
    "        data = [line.strip(\"\\n\") for line in data]\n",
    "        \n",
    "        # Cleanup the data\n",
    "        clean = []\n",
    "        for i, line in enumerate(data):\n",
    "            if line.startswith(\"Train\"):\n",
    "                train_no = int(data[i].replace(\"Train No: \", \"\"))\n",
    "                departure_station = data[i+1][:-6]\n",
    "                departure_time = data[i+1][-5:]\n",
    "                arrival_station = data[i+2][:-6]\n",
    "                arrival_time = data[i+2][-5:]\n",
    "                clean.append({\n",
    "                    \"train\": train_no,\n",
    "                    \"departure_station\": departure_station,\n",
    "                    \"departure_time\": departure_time,\n",
    "                    \"arrival_station\": arrival_station,\n",
    "                    \"arrival_time\": arrival_time,\n",
    "                })\n",
    "        \n",
    "        # Extract stations and train numbers\n",
    "        stations = open(f\"{line_dir}/stations.txt\", \"r\").read().split(\"\\n\")\n",
    "        \n",
    "        # Extract train numbers\n",
    "        trains = []\n",
    "        for item in clean:\n",
    "            if item['train'] not in trains:\n",
    "                trains.append(item['train'])\n",
    "\n",
    "        # Prepare output\n",
    "        inbound = { station: {} for station in stations}\n",
    "        outbound = { station: {} for station in stations}\n",
    "\n",
    "        for station in stations:\n",
    "            for train_no in trains:\n",
    "                for item in clean:\n",
    "                    # determine if the movement is inbound or outbound\n",
    "                    movement = get_movement(item[\"departure_station\"], item[\"arrival_station\"], stations)\n",
    "                    if movement == \"inbound\":\n",
    "                        if item[\"arrival_station\"] == station and item[\"train\"] == train_no:\n",
    "                            inbound[station][train_no] = item[\"arrival_time\"]\n",
    "                            break\n",
    "                    elif movement == \"outbound\":\n",
    "                        if item[\"arrival_station\"] == station and item[\"train\"] == train_no:\n",
    "                            outbound[station][train_no] = item[\"arrival_time\"]\n",
    "                            break\n",
    "                else:\n",
    "                    inbound[station][train_no] = \"\"\n",
    "                    outbound[station][train_no] = \"\"\n",
    "\n",
    "        # Write output\n",
    "        with open(Path(f\"./{line_dir}/{file.rstrip(\".txt\")}_inbound.json\"), \"w\") as f:\n",
    "            f.write(str(inbound))\n",
    "\n",
    "        # Write output\n",
    "        with open(Path(f\"./{line_dir}/{file.rstrip(\".txt\")}_outbound.json\"), \"w\") as f:\n",
    "            f.write(str(outbound))"
   ]
  },
  {
   "cell_type": "code",
   "execution_count": null,
   "id": "33ea5dc4",
   "metadata": {},
   "outputs": [],
   "source": []
  }
 ],
 "metadata": {
  "kernelspec": {
   "display_name": "Python 3 (ipykernel)",
   "language": "python",
   "name": "python3"
  },
  "language_info": {
   "codemirror_mode": {
    "name": "ipython",
    "version": 3
   },
   "file_extension": ".py",
   "mimetype": "text/x-python",
   "name": "python",
   "nbconvert_exporter": "python",
   "pygments_lexer": "ipython3",
   "version": "3.12.4"
  }
 },
 "nbformat": 4,
 "nbformat_minor": 5
}
